{
 "cells": [
  {
   "cell_type": "markdown",
   "metadata": {},
   "source": [
    "# M132A HW4 (coding part)"
   ]
  },
  {
   "cell_type": "code",
   "execution_count": 1,
   "metadata": {},
   "outputs": [],
   "source": [
    "import numpy as np\n",
    "import scipy.io\n",
    "import matplotlib.pyplot as plt\n",
    "import random"
   ]
  },
  {
   "cell_type": "markdown",
   "metadata": {},
   "source": [
    "8.9 c) Using code to verify a step size $\\alpha$ and initial guess of the form $x^{(0)} = [x_1,0]^T$ so the prescribed method doesn't converge to the solution."
   ]
  },
  {
   "cell_type": "code",
   "execution_count": 8,
   "metadata": {},
   "outputs": [],
   "source": [
    "h = lambda x: np.array([4 + 3*x[0] + 2*x[1], 1 + 2*x[0] + 3*x[1]])\n",
    "a = 1 # step size\n",
    "x = np.array([2,0])"
   ]
  },
  {
   "cell_type": "code",
   "execution_count": 2,
   "metadata": {},
   "outputs": [],
   "source": [
    "def zero_finding(h, a, x0, iter):\n",
    "    \"\"\"\n",
    "    Zero finding algorithm\n",
    "    Inputs:\n",
    "    h - function h (gradient of some other function)\n",
    "    a - step size (using a > 0.4 to show divergence)\n",
    "    x0 - initial guess, of the form (x_1, 0)\n",
    "    iter - number of iterations to perform\n",
    "    Output:\n",
    "    x - approximate zero\n",
    "    \"\"\"\n",
    "    x = x0 # initialize x with initial guess\n",
    "    for i in range(iter):\n",
    "        hx = h(x)\n",
    "        x = x - a * hx\n",
    "    return x"
   ]
  },
  {
   "cell_type": "code",
   "execution_count": 9,
   "metadata": {},
   "outputs": [
    {
     "name": "stdout",
     "output_type": "stream",
     "text": [
      "[1572862 1572865]\n"
     ]
    }
   ],
   "source": [
    "res = zero_finding(h, a, x0 = x, iter = 10)\n",
    "print(res)"
   ]
  },
  {
   "cell_type": "markdown",
   "metadata": {},
   "source": [
    "26.1 a) Computing the condition of the Hessian of a quadratic loss"
   ]
  },
  {
   "cell_type": "code",
   "execution_count": 16,
   "metadata": {},
   "outputs": [
    {
     "name": "stdout",
     "output_type": "stream",
     "text": [
      "[[3.4303e+02 1.3458e+03 3.9100e+01]\n",
      " [1.3458e+03 9.1700e+03 2.2800e+02]\n",
      " [3.9100e+01 2.2800e+02 6.0000e+00]]\n"
     ]
    }
   ],
   "source": [
    "X = np.array([[1,3.1,5.1,7.9,10,12],[45,42,50,24,39,28]]) # initialize data \n",
    "col_sum = np.sum(X, axis = 1) # sum of the columns\n",
    "outer_sum = sum(np.outer(X[:,i],X[:,i]) for i in range(X.shape[1]))\n",
    "\n",
    "hessian = np.zeros((3,3))\n",
    "\n",
    "hessian[:2, :2] = outer_sum\n",
    "hessian[:2, 2] = col_sum\n",
    "hessian[2, :2] = col_sum\n",
    "hessian[2, 2] = X.shape[1]\n",
    "\n",
    "print(hessian)"
   ]
  },
  {
   "cell_type": "code",
   "execution_count": 17,
   "metadata": {},
   "outputs": [
    {
     "name": "stdout",
     "output_type": "stream",
     "text": [
      "Condition of X: 83423.05375880032\n"
     ]
    }
   ],
   "source": [
    "# calculate the condition of the matrix using the largest and smallest eigenvalues\n",
    "eigenvalues = np.linalg.eigvals(hessian)\n",
    "condition = np.max(eigenvalues) / np.min(eigenvalues)\n",
    "print(f'Condition of X: {condition}')"
   ]
  },
  {
   "cell_type": "markdown",
   "metadata": {},
   "source": [
    "b) Normalizing X"
   ]
  },
  {
   "cell_type": "code",
   "execution_count": 10,
   "metadata": {},
   "outputs": [
    {
     "name": "stdout",
     "output_type": "stream",
     "text": [
      "[[-0.37516293 -0.23235166 -0.09634093  0.09407409  0.23688535  0.37289608]\n",
      " [ 0.08300395  0.04743083  0.14229249 -0.16600791  0.01185771 -0.11857708]]\n"
     ]
    }
   ],
   "source": [
    "# calculate means and variances for X to perform normalization\n",
    "means = np.mean(X, axis = 1)\n",
    "variances = np.var(X, axis = 1)\n",
    "\n",
    "# normalize the data (using matrices)\n",
    "T = np.diag(1/(variances))\n",
    "M = np.zeros_like(X)\n",
    "for i in range(X.shape[0]):\n",
    "    M[i,:] = [means[i]] * X.shape[1]\n",
    "X_norm = T @ (X - M)\n",
    "\n",
    "# normalized data \n",
    "print(X_norm)"
   ]
  },
  {
   "cell_type": "code",
   "execution_count": 14,
   "metadata": {},
   "outputs": [
    {
     "name": "stdout",
     "output_type": "stream",
     "text": [
      "Condition of Normalized Matrix: 162.98545875307653\n"
     ]
    }
   ],
   "source": [
    "# computing hessian for normalized data using helper function\n",
    "hessian_norm = hessian(X_norm)\n",
    "\n",
    "# calculate the condition of the matrix\n",
    "eigenvalues_norm = np.linalg.eigvals(hessian_norm)\n",
    "condition_norm = np.max(eigenvalues_norm) / np.min(eigenvalues_norm)\n",
    "print(f'Condition of Normalized Matrix: {condition_norm}')"
   ]
  },
  {
   "cell_type": "markdown",
   "metadata": {},
   "source": [
    "The condition of the Hessian matrix calculated using the normalized data is significantly smaller than the condition of the Hessian using the original data. This suggests normalizing the data can reduce the condition of the Hessian for quadratic loss."
   ]
  },
  {
   "cell_type": "code",
   "execution_count": 11,
   "metadata": {},
   "outputs": [],
   "source": [
    "# function for computing the hessian for quadratic loss\n",
    "def hessian(x):\n",
    "    '''\n",
    "    Computer the hessian matrix for quadratic loss given data x\n",
    "    Inputs:\n",
    "    x - data matrix\n",
    "    Output:\n",
    "    hessian - hessian matrix\n",
    "    '''\n",
    "    col_sum = np.sum(x, axis = 1) # sum of the columns for the top right 2x1 and bottom left 1x2 matrices\n",
    "    outer_sum = sum(np.outer(x[:,i],x[:,i]) for i in range(x.shape[1])) # sum of the outer products for top left 2x2 matrix\n",
    "    \n",
    "    hessian = np.zeros((3,3)) # initialize the hessian matrix\n",
    "    hessian[:2, :2] = outer_sum\n",
    "    hessian[:2, 2] = col_sum\n",
    "    hessian[2, :2] = col_sum\n",
    "    hessian[2, 2] = x.shape[1]\n",
    "    return hessian\n"
   ]
  },
  {
   "cell_type": "markdown",
   "metadata": {},
   "source": [
    "26.11 a) Randomly selecting photos from the files provided"
   ]
  },
  {
   "cell_type": "code",
   "execution_count": 3,
   "metadata": {},
   "outputs": [],
   "source": [
    "# reading in matlab files \n",
    "filename1 = 'Te28.mat'\n",
    "filename2 = 'Lte28.mat'\n",
    "data1 = scipy.io.loadmat(filename1)\n",
    "data2 = scipy.io.loadmat(filename2)\n",
    "\n",
    "# extracting data from files\n",
    "Te28 = data1['Te28']\n",
    "Lte28 = data2['Lte28']"
   ]
  },
  {
   "cell_type": "code",
   "execution_count": 4,
   "metadata": {},
   "outputs": [],
   "source": [
    "indices = np.where(Lte28 == 2)[0] #extracting indices where Lte28 is 2\n",
    "sampled_indices = np.random.choice(indices, size = 200, replace = False) # sampling 200 indices\n",
    "Te28_2 = Te28[:, sampled_indices] # extracting Te28 values where Lte28 is 2"
   ]
  },
  {
   "cell_type": "code",
   "execution_count": null,
   "metadata": {},
   "outputs": [],
   "source": [
    "random.seed(17) # setting seed for reproducibility\n",
    "nums = [2,3,5,7]\n",
    "cols = []\n",
    "for num in nums:\n",
    "    indices = np.where(Lte28 == num)[0] #extracting indices where Lte28 is 2\n",
    "    sampled_indices = np.random.choice(indices, size = 200, replace = False) # sampling 200 indices\n",
    "    Te28_num = Te28[:, sampled_indices] # extracting Te28 values where Lte28 is 2\n",
    "    cols.append(Te28_num)\n",
    "\n",
    "X = np.concatenate(cols, axis = 1) # concatenating the columns"
   ]
  },
  {
   "cell_type": "code",
   "execution_count": 16,
   "metadata": {},
   "outputs": [],
   "source": [
    "# perform SVD on X\n",
    "U, S, Vt = np.linalg.svd(X, full_matrices = False)\n",
    "\n",
    "# PCA for this problem uses q = 2, but we'll include q as a variable \n",
    "q = 2\n",
    "\n",
    "# extract features from SVD\n",
    "U_q = U[:, :q]\n",
    "S_q = S[:q]\n",
    "Vt_q = Vt[:q, :]\n",
    "\n",
    "# computing principal components\n",
    "X_pca = U_q.T @ X"
   ]
  },
  {
   "cell_type": "code",
   "execution_count": 17,
   "metadata": {},
   "outputs": [
    {
     "data": {
      "image/png": "[encoded data removed]",
      "text/plain": [
       "<Figure size 640x480 with 1 Axes>"
      ]
     },
     "metadata": {},
     "output_type": "display_data"
    }
   ],
   "source": [
    "# plotting the principal components\n",
    "plt.scatter(X_pca[0, :200], X_pca[1, :200], marker = 'o', color = 'blue')\n",
    "plt.scatter(X_pca[0, 200:400], X_pca[1, 200:400], marker = '+', color = 'red')\n",
    "plt.scatter(X_pca[0, 400:600], X_pca[1, 400:600], marker = 'x', color = 'green')\n",
    "plt.scatter(X_pca[0, 600:800], X_pca[1, 600:800], marker = 's', color = 'magenta')\n",
    "plt.show()"
   ]
  },
  {
   "cell_type": "markdown",
   "metadata": {},
   "source": [
    "26.11 c) Creating a HOG for X from part a "
   ]
  },
  {
   "cell_type": "code",
   "execution_count": null,
   "metadata": {},
   "outputs": [],
   "source": [
    "from functions import hog20new # credit to Michael Yang for creating the hog20new function\n",
    "\n",
    "res = hog20new(X[:, 0].reshape(28, 28).T, 7, 7)\n",
    "hog_cols = []\n",
    "\n",
    "# computing hog features for each column of X\n",
    "for i in range(X.shape[1]):\n",
    "    res = hog20new(X[:, i].reshape(28, 28).T, 7, 7)\n",
    "    hog_cols.append(res)\n",
    "\n",
    "hog = np.array(hog_cols).T # transpose features to match required shape"
   ]
  },
  {
   "cell_type": "code",
   "execution_count": 29,
   "metadata": {},
   "outputs": [],
   "source": [
    "# apply SVD to the hog matrix to extract 800 2-dimensional features\n",
    "U, S, Vt = np.linalg.svd(hog, full_matrices = False)\n",
    "\n",
    "# PCA for this problem uses q = 2, but we'll include q as a variable \n",
    "q = 2\n",
    "\n",
    "# extract features from SVD\n",
    "U_q = U[:, :q]\n",
    "S_q = S[:q]\n",
    "Vt_q = Vt[:q, :]\n",
    "\n",
    "# computing principal components\n",
    "hog_pca = U_q.T @ hog"
   ]
  },
  {
   "cell_type": "code",
   "execution_count": 30,
   "metadata": {},
   "outputs": [
    {
     "data": {
      "image/png": "[encoded data removed]",
      "text/plain": [
       "<Figure size 640x480 with 1 Axes>"
      ]
     },
     "metadata": {},
     "output_type": "display_data"
    }
   ],
   "source": [
    "# plotting the principal components of hog matrix\n",
    "plt.scatter(hog_pca[0, :200], hog_pca[1, :200], marker = 'o', color = 'blue')\n",
    "plt.scatter(hog_pca[0, 200:400], hog_pca[1, 200:400], marker = '+', color = 'red')\n",
    "plt.scatter(hog_pca[0, 400:600], hog_pca[1, 400:600], marker = 'x', color = 'green')\n",
    "plt.scatter(hog_pca[0, 600:800], hog_pca[1, 600:800], marker = 's', color = 'magenta')\n",
    "plt.show()"
   ]
  },
  {
   "cell_type": "markdown",
   "metadata": {},
   "source": [
    "The clustering of the red, blue, and green groups doesn't substaintially improve using the HOG matrix compared to the original data with the exception of some green and red principal components. However, the separation of the pink group from the rest of the data improves from applying PCA to the HOG. "
   ]
  },
  {
   "cell_type": "markdown",
   "metadata": {},
   "source": [
    "27.1 a) Creating function to evaluate the regularized logistic loss"
   ]
  },
  {
   "cell_type": "code",
   "execution_count": 7,
   "metadata": {},
   "outputs": [],
   "source": [
    "def reg_log_loss(w, X, y, mu):\n",
    "    '''\n",
    "    Computes the regularized logistic loss for a given vector w\n",
    "    Inputs:\n",
    "    w - weight vector\n",
    "    X - data matrix of the shape (N+1)xP where N is the number of features and P is the number of data points\n",
    "    y - labels vector of the shape Px1\n",
    "    mu - regularization parameter\n",
    "    Output:\n",
    "    loss - regularized logistic loss\n",
    "    ''' \n",
    "    loss = np.mean(np.log(1 + np.exp(np.dot(w,X) * y))) + (mu / 2) * np.inner(w, w) # regularized logistic loss \n",
    "    return loss\n",
    "\n",
    "def reg_log_loss_gradient(w, X, y, mu):\n",
    "    '''\n",
    "    Computes the gradient of the regularized logistic loss for a given vector w\n",
    "    Inputs:\n",
    "    w - weight vector\n",
    "    X - data matrix of the shape (N+1)xP where N is the number of features and P is the number of data points\n",
    "    y - labels vector of the shape Px1\n",
    "    mu - regularization parameter\n",
    "    Output:\n",
    "    gradient - gradient of the regularized logistic loss\n",
    "    '''\n",
    "    # Compute the gradient of the logistic loss\n",
    "    m = X.shape[1]\n",
    "    predictions = 1 / (1 + np.exp(-np.dot(X.T, w)))\n",
    "    gradient_logistic_loss = -np.dot(X, (y - predictions)) / m\n",
    "    \n",
    "    # Compute the gradient of the regularization term\n",
    "    gradient_regularization_term = mu * w\n",
    "    \n",
    "    # Compute the total gradient\n",
    "    gradient = gradient_logistic_loss + gradient_regularization_term\n",
    "    \n",
    "    return gradient"
   ]
  },
  {
   "cell_type": "markdown",
   "metadata": {},
   "source": [
    "b) Using the function on a dataset with different weight vectors"
   ]
  },
  {
   "cell_type": "code",
   "execution_count": 6,
   "metadata": {},
   "outputs": [],
   "source": [
    "# creating data matrix and weight vectors for function \n",
    "X = np.array([[1.5,3.5,5,6.9,8.4,10,11.2,1,2.1,3.1,4,5.9,7.9,9,10.5],\n",
    "             [7,6.5,5,3.7,3,5,1.3,4.5,3.5,5.5,4.2,2.7,2.2,1.6,0.8],\n",
    "             [1] * 15]) # data matrix\n",
    "\n",
    "y = np.array([1] * 7 + [-1] * 8) # labels vector\n",
    "\n",
    "w1 = np.array([-0.3,0,-1])\n",
    "w2 = np.array([0.1,0.9,-2])\n",
    "w3 = np.array([0.2,0.6,-3])\n",
    "w4 = np.array([0.3,0.5,-4])\n",
    "\n",
    "mu = 0.001 # regularization parameter"
   ]
  },
  {
   "cell_type": "code",
   "execution_count": 9,
   "metadata": {},
   "outputs": [
    {
     "name": "stdout",
     "output_type": "stream",
     "text": [
      "Loss 1: 1.4912987180591069\n",
      "Loss 2: 1.5028338449034775\n",
      "Loss 3: 1.0382429688346009\n",
      "Loss 4: 1.044183890054391\n"
     ]
    }
   ],
   "source": [
    "# calculating the regularized logistic loss for each weight vector\n",
    "loss1 = reg_log_loss(w1, X, y, mu)\n",
    "loss2 = reg_log_loss(w2, X, y, mu)\n",
    "loss3 = reg_log_loss(w3, X, y, mu)\n",
    "loss4 = reg_log_loss(w4, X, y, mu)\n",
    "\n",
    "losses = [loss1, loss2, loss3, loss4]\n",
    "for num, loss in enumerate(losses):\n",
    "    print(f'Loss {num + 1}: {loss}')"
   ]
  },
  {
   "cell_type": "markdown",
   "metadata": {},
   "source": [
    "27.5 a) Inputting and loading matlab data and functions"
   ]
  },
  {
   "cell_type": "code",
   "execution_count": 2,
   "metadata": {},
   "outputs": [],
   "source": [
    "# loading matlab functions and data (using converted functions)\n",
    "X2 = scipy.io.loadmat('X2.mat')['X2']\n",
    "X7 = scipy.io.loadmat('X7.mat')['X7']\n",
    "T2 = scipy.io.loadmat('T2.mat')['T2']\n",
    "T7 = scipy.io.loadmat('T7.mat')['T7']\n",
    "\n",
    "from functions import hog20new, sgd_rlog"
   ]
  },
  {
   "cell_type": "markdown",
   "metadata": {},
   "source": [
    "b) Converting input data sets to HOGs (training and testing data)"
   ]
  },
  {
   "cell_type": "code",
   "execution_count": 3,
   "metadata": {},
   "outputs": [],
   "source": [
    "# creating empty 'matrix' for data \n",
    "X2_hog_cols = []\n",
    "X7_hog_cols = []\n",
    "T2_hog_cols = []\n",
    "T7_hog_cols = []\n",
    "\n",
    "# compting hog features for each data set \n",
    "for i in range(X2.shape[1]):\n",
    "    res = hog20new(X2[:, i].reshape(28, 28).T, 7, 7)\n",
    "    X2_hog_cols.append(res)\n",
    "\n",
    "X2_hog = np.array(X2_hog_cols).T # transpose matrix so shape matches requirements for later \n",
    "\n",
    "for i in range(X7.shape[1]):\n",
    "    res = hog20new(X7[:, i].reshape(28, 28).T, 7, 7)\n",
    "    X7_hog_cols.append(res)\n",
    "\n",
    "X7_hog = np.array(X7_hog_cols).T # transpose matrix so shape matches requirements for later\n",
    "X_hog = np.concatenate((X2_hog, X7_hog), axis = 1) # combining the hog features for both data sets\n",
    "\n",
    "for i in range(T2.shape[1]):\n",
    "    res = hog20new(T2[:, i].reshape(28, 28).T, 7, 7)\n",
    "    T2_hog_cols.append(res)\n",
    "\n",
    "T2_hog = np.array(T2_hog_cols).T # transpose matrix so shape matches requirements for later\n",
    "\n",
    "for i in range(T7.shape[1]):\n",
    "    res = hog20new(T7[:, i].reshape(28, 28).T, 7, 7)\n",
    "    T7_hog_cols.append(res)\n",
    "\n",
    "T7_hog = np.array(T7_hog_cols).T # transpose matrix so shape matches requirements for later"
   ]
  },
  {
   "cell_type": "markdown",
   "metadata": {},
   "source": [
    "c) Running sgd_log using the HOGs of the input data and testing data "
   ]
  },
  {
   "cell_type": "code",
   "execution_count": 9,
   "metadata": {},
   "outputs": [],
   "source": [
    "# testing other loss function and gradient of loss function\n",
    "def f_rlog(w, X, y, mu):\n",
    "    \"\"\"\n",
    "    logistic regression objective function value.\n",
    "    - w: weight vector (including bias), shape (dim,)\n",
    "    - X: augmented data matrix, shape (dim, n_samples)\n",
    "    - y: labels, shape (n_samples,)\n",
    "    - mu: regularization parameter.\n",
    "    Uses the loss: log(1 + exp(-z)), with z = y*(w^T x).\n",
    "    \"\"\"\n",
    "    z = y * (np.dot(w, X))\n",
    "    # Use log1p for numerical stability: log1p(exp(-z)) computes log(1+exp(-z))\n",
    "    loss = np.log1p(np.exp(-z))\n",
    "    return np.sum(loss) + 0.5 * mu * np.sum(w**2)\n",
    "\n",
    "\n",
    "def g_rlog(w, X, y, mu):\n",
    "    \"\"\"\n",
    "    Compute the gradient for logistic regression.\n",
    "    - w: weight vector (including bias), shape (dim,)\n",
    "    - X: augmented data matrix, shape (dim, n_samples)\n",
    "    - y: labels, shape (n_samples,)\n",
    "    - mu: regularization parameter.\n",
    "    The gradient is computed as:\n",
    "      -Î£ [ y_i * Ïƒ(z_i) * x_i ] + mu * w,\n",
    "    where Ïƒ(z) = 1/(1+exp(z)) and z = y*(w^T x).\n",
    "    \"\"\"\n",
    "    z = y * (np.dot(w, X))\n",
    "    sigma = 1 / (1 + np.exp(z))\n",
    "    grad = -np.dot(X, (y * sigma).T) + mu * w\n",
    "    return grad"
   ]
  },
  {
   "cell_type": "code",
   "execution_count": null,
   "metadata": {},
   "outputs": [],
   "source": [
    "# defining other variables for the function\n",
    "mu = 0.002\n",
    "beta = 13\n",
    "gamma = 0.01\n",
    "m = 8\n",
    "st = 9\n",
    "K = 1176\n",
    "y = np.array([1] * 2000 + [-1] * 2000) # labels vector\n",
    "\n",
    "# define loss function and gradient of the loss function\n",
    "\n",
    "\n",
    "\n",
    "# calculating sgd_rlog\n",
    "ws, f, rtm = sgd_rlog(X_hog, y, T2_hog, T7_hog, mu, beta, gamma, m, st, K, f_rlog, g_rlog)"
   ]
  },
  {
   "cell_type": "markdown",
   "metadata": {},
   "source": [
    "27.8 a) & b) From 27.5 parts a and b we already have the proper data loaded and converted into their respective HOGs\n",
    "c) Running SVRG_rlog with different parameter values"
   ]
  },
  {
   "cell_type": "code",
   "execution_count": 22,
   "metadata": {},
   "outputs": [],
   "source": [
    "# experimenting with other loss functions that are more stable\n",
    "def stable_logistic_loss(w, X, y, mu):\n",
    "    '''\n",
    "    Computes the regularized logistic loss for a given vector w with numerical stability\n",
    "    Inputs:\n",
    "    w - weight vector\n",
    "    X - data matrix of the shape (N+1)xP where N is the number of features and P is the number of data points\n",
    "    y - labels vector of the shape Px1\n",
    "    mu - regularization parameter\n",
    "    Output:\n",
    "    loss - regularized logistic loss\n",
    "    '''\n",
    "    z = np.dot(X.T, w)\n",
    "    logistic_loss = np.mean(np.logaddexp(0, -y * z))\n",
    "    regularization_term = (mu / 2) * np.dot(w, w)\n",
    "    loss = logistic_loss + regularization_term\n",
    "    return loss\n",
    "\n",
    "def stable_logistic_loss_gradient(w, X, y, mu):\n",
    "    '''\n",
    "    Computes the gradient of the regularized logistic loss for a given vector w with numerical stability\n",
    "    Inputs:\n",
    "    w - weight vector\n",
    "    X - data matrix of the shape (N+1)xP where N is the number of features and P is the number of data points\n",
    "    y - labels vector of the shape Px1\n",
    "    mu - regularization parameter\n",
    "    Output:\n",
    "    gradient - gradient of the regularized logistic loss\n",
    "    '''\n",
    "    m = X.shape[1]\n",
    "    z = np.dot(X.T, w)\n",
    "    predictions = 1 / (1 + np.exp(-z))\n",
    "    gradient_logistic_loss = -np.dot(X, (y - predictions)) / m\n",
    "    gradient_regularization_term = mu * w\n",
    "    gradient = gradient_logistic_loss + gradient_regularization_term\n",
    "    return gradient"
   ]
  },
  {
   "cell_type": "code",
   "execution_count": 28,
   "metadata": {},
   "outputs": [],
   "source": [
    "# credit to Lin Fang from class for translating the function into Python\n",
    "def SVRG_rlog(X, y, Xte1, Xte2, mu, a, T, st, K):\n",
    "    \"\"\"\n",
    "    SVRG algorithm for logistic regression.\n",
    "    - X: training data, shape (n_features, n_samples)\n",
    "    - y: labels, shape (n_samples,), with values +1 or -1.\n",
    "    - Xte1, Xte2: two test sets, with shapes (n_features, n_test1) and (n_features, n_test2)\n",
    "    - mu: regularization parameter.\n",
    "    - a: step size.\n",
    "    - T: number of inner iterations.\n",
    "    - st: initial random seed.\n",
    "    - K: number of outer iterations.\n",
    "    \"\"\"\n",
    "    n_features, P = X.shape\n",
    "    # Augment training data with a row of ones for bias term\n",
    "    Xh = np.vstack((X, np.ones((1, P))))\n",
    "    \n",
    "    t1 = Xte1.shape[1]\n",
    "    t2 = Xte2.shape[1]\n",
    "    A1 = np.vstack((Xte1, np.ones((1, t1))))\n",
    "    A2 = np.vstack((Xte2, np.ones((1, t2))))\n",
    "    \n",
    "    w0 = np.zeros(n_features + 1)\n",
    "    wt = w0.copy()\n",
    "    \n",
    "    f0 = f_rlog(wt, Xh, y, 0)  # Objective computed with mu=0\n",
    "    f_vals = [f0]\n",
    "    \n",
    "    # Initial prediction and confusion matrix\n",
    "    y1 = np.dot(wt, A1)\n",
    "    y2 = np.dot(wt, A2)\n",
    "    C = np.zeros((2,2), dtype=int)\n",
    "    C[0,0] = np.sum(y1 > 0)\n",
    "    C[1,0] = t1 - C[0,0]\n",
    "    C[1,1] = np.sum(y2 < 0)\n",
    "    C[0,1] = t2 - C[1,1]\n",
    "    rtm = [(1 - ((C[0,0] + C[1,1]) / C.sum())) * 100]\n",
    "    \n",
    "    print(f'iter 0: obj = {f0:.2e}')\n",
    "    \n",
    "    tt = 1  # mini-batch size (selecting one sample per inner iteration)\n",
    "    for k in range(1, K+1):\n",
    "        gt = stable_logistic_loss_gradient(wt, Xh, y, mu) # can change this with g_rlog for different results\n",
    "        wk = wt.copy()\n",
    "        for t in range(1, T+1):\n",
    "            # Reset the random seed (note: frequent seed resetting is uncommon and mainly used here for reproducibility)\n",
    "            np.random.seed(st + (k-1)*T + t)\n",
    "            ind = np.random.permutation(P)\n",
    "            it = ind[:tt]\n",
    "            xi = Xh[:, it]   # shape: (n_features+1, tt)\n",
    "            yi = y[it]       # shape: (tt,)\n",
    "            gik = stable_logistic_loss_gradient(wk, xi, yi, mu) # can change this with g_rlog for different results\n",
    "            git = stable_logistic_loss_gradient(wt, xi, yi, mu) # can change this with g_rlog for different results\n",
    "            gk = gik - git + gt\n",
    "            wk = wk - a * gk\n",
    "        wt = wk.copy()\n",
    "        fk = stable_logistic_loss(wt, Xh, y, mu) # could change this with f_rlog for different results \n",
    "        f_vals.append(fk)\n",
    "        \n",
    "        y1 = np.dot(wt, A1)\n",
    "        y2 = np.dot(wt, A2)\n",
    "        C[0,0] = np.sum(y1 > 0)\n",
    "        C[1,0] = t1 - C[0,0]\n",
    "        C[1,1] = np.sum(y2 < 0)\n",
    "        C[0,1] = t2 - C[1,1]\n",
    "        rk = (1 - ((C[0,0] + C[1,1]) / C.sum())) * 100\n",
    "        rtm.append(rk)\n",
    "        \n",
    "        print(f'iter {k}: obj = {fk:.2e}')\n",
    "        \n",
    "    ws = wt\n",
    "    print('Objective function at the solution point:')\n",
    "    fs = f_vals[-1]\n",
    "    print(fs)\n",
    "    print('Confusion matrix:')\n",
    "    print(C)\n",
    "    print('Rate of misclassification in percentage:')\n",
    "    print(rtm[-1])\n",
    "    \n",
    "    # Plot the objective function values (semilog plot)\n",
    "    plt.figure(1)\n",
    "    plt.semilogy(range(0, K+1), f_vals, 'b-', linewidth=1.5)\n",
    "    plt.xlabel('Iterations k', fontsize=15, fontname='times')\n",
    "    plt.ylabel('Objective E_L(w_k)', fontsize=15, fontname='times')\n",
    "    plt.axis([0, K, 1.5e-2, 1])\n",
    "    plt.grid(True)\n",
    "    plt.show()\n",
    "    \n",
    "    return ws, f_vals, rtm"
   ]
  },
  {
   "cell_type": "code",
   "execution_count": null,
   "metadata": {},
   "outputs": [],
   "source": [
    "# redefining parameter values for the function \n",
    "mu = 0 \n",
    "alpha = 0.15\n",
    "T = 170\n",
    "st = 9\n",
    "K = 29\n",
    "\n",
    "# calculating SVRG_rlog\n",
    "w, f, rtm = SVRG_rlog(X_hog, y, T2_hog, T7_hog, mu, alpha, T, st, K)"
   ]
  },
  {
   "cell_type": "markdown",
   "metadata": {},
   "source": [
    "The lowest rate of misclassification was 1.359, however the objective loss at each iteration is `inf`. Thus, I used a \"stabilized\" loss function along with it's gradient to calculate SVRG_rlog which resulted in a misclassification rate of about 33% but returned finite loss function values for each iteration. The model was able to accurately predict all of the 7's but had some issues classifying 2's which results in some 2's being perceived as 7's. "
   ]
  }
 ],
 "metadata": {
  "kernelspec": {
   "display_name": "Python 3",
   "language": "python",
   "name": "python3"
  },
  "language_info": {
   "codemirror_mode": {
    "name": "ipython",
    "version": 3
   },
   "file_extension": ".py",
   "mimetype": "text/x-python",
   "name": "python",
   "nbconvert_exporter": "python",
   "pygments_lexer": "ipython3",
   "version": "3.12.7"
  }
 },
 "nbformat": 4,
 "nbformat_minor": 2
}
